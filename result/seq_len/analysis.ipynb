{
 "cells": [
  {
   "cell_type": "code",
   "execution_count": 1,
   "metadata": {},
   "outputs": [],
   "source": [
    "import pandas as pd\n",
    "import matplotlib.pyplot as plt\n",
    "import numpy as np\n",
    "import os\n",
    "import json"
   ]
  },
  {
   "cell_type": "markdown",
   "metadata": {},
   "source": [
    "# LSTM"
   ]
  },
  {
   "cell_type": "code",
   "execution_count": 3,
   "metadata": {},
   "outputs": [],
   "source": [
    "directory = \"./LSTM\"\n",
    "listdir = os.listdir(directory)\n",
    "\n",
    "lstm = []\n",
    "\n",
    "for fname in listdir:\n",
    "    seq_len = int(fname.replace(\".json\",''))\n",
    "    path = os.path.join(directory, fname)\n",
    "    data = json.load(open(path, 'r'))\n",
    "\n",
    "    params = data[\"params\"]\n",
    "    depth = data[\"n_layer\"]\n",
    "    width = params // depth\n",
    "\n",
    "    train_loss = [el[\"train_loss\"] for el in data[\"history\"]]\n",
    "    val_loss = [el[\"val_loss\"] for el in data[\"history\"]]\n",
    "\n",
    "    max_train_loss = max(train_loss)\n",
    "    min_train_loss = min(train_loss)\n",
    "    mean_train_loss = sum(train_loss)/len(train_loss)\n",
    "\n",
    "    train_loss_decrement = [data[\"history\"][i][\"train_loss\"] - data[\"history\"][i+1][\"train_loss\"] for i in range(len(data[\"history\"])-1)]\n",
    "    mean_train_loss_decrement = (sum(train_loss_decrement) / len(train_loss_decrement)) / max_train_loss # normalization\n",
    "\n",
    "    val_loss_decrement = [data[\"history\"][i][\"val_loss\"] - data[\"history\"][i+1][\"val_loss\"] for i in range(len(data[\"history\"])-1)]\n",
    "    mean_val_loss_decrement = (sum(val_loss_decrement) / len(val_loss_decrement)) / max(val_loss) # normalization\n",
    "\n",
    "    overfit_ratio = abs(mean_train_loss_decrement / mean_val_loss_decrement)\n",
    "\n",
    "    train_time = [el[\"train_time\"] for el in data[\"history\"]]\n",
    "    val_time = [el[\"val_time\"] for el in data[\"history\"]]\n",
    "\n",
    "    mean_train_time = sum(train_time) / len(train_time)\n",
    "    mean_val_time = sum(val_time) / len(val_time)\n",
    "\n",
    "    lstm.append({\n",
    "        \"params\" : params,\n",
    "        \"depth\" : depth,\n",
    "        \"width\" : width,\n",
    "        \"max_train_loss\" : max_train_loss,\n",
    "        \"min_train_loss\" : min_train_loss,\n",
    "        \"mean_train_loss\" : mean_train_loss,\n",
    "        # \"mean_train_loss_decrement\" : mean_train_loss_decrement,\n",
    "        # \"mean_val_loss_decrement\" : mean_val_loss_decrement,\n",
    "        \"overfit_ratio\" : overfit_ratio,\n",
    "        \"mean_train_time\" : mean_train_time,\n",
    "        \"mean_val_time\" : mean_val_time,\n",
    "        \"bidirectional\" : data[\"bidirectional\"],\n",
    "        \"seq_len\" : seq_len\n",
    "    })"
   ]
  },
  {
   "cell_type": "code",
   "execution_count": 4,
   "metadata": {},
   "outputs": [],
   "source": [
    "lstm = pd.DataFrame(lstm)"
   ]
  },
  {
   "cell_type": "code",
   "execution_count": 5,
   "metadata": {},
   "outputs": [
    {
     "name": "stdout",
     "output_type": "stream",
     "text": [
      "['b', 'g', 'r', 'c', 'm', 'y', 'k', 'w']\n"
     ]
    }
   ],
   "source": [
    "import matplotlib.colors as mcolors\n",
    "\n",
    "def list_matplotlib_colors():\n",
    "    # Get a dictionary of named colors in Matplotlib\n",
    "    colors = mcolors.BASE_COLORS\n",
    "    # Convert the dictionary to a list of color names\n",
    "    color_list = list(colors.keys())\n",
    "    return color_list\n",
    "\n",
    "# Example usage\n",
    "colors = list_matplotlib_colors()\n",
    "print(colors)\n"
   ]
  },
  {
   "cell_type": "code",
   "execution_count": 6,
   "metadata": {},
   "outputs": [],
   "source": [
    "from sklearn.linear_model import LinearRegression\n",
    "import numpy as np\n",
    "\n",
    "def scatter(dfs, x, y, labels, xlabel, ylabel):\n",
    "    x_range_max = 0\n",
    "    x_range_min = 0\n",
    "    for i, (df, label) in enumerate(zip(dfs, labels)):\n",
    "        plt.scatter(df[x], df[y], alpha=0.5, label=label, color=colors[i%len(colors)])\n",
    "\n",
    "        if df[x].max() > x_range_max:\n",
    "            x_range_max = df[x].max()\n",
    "        if df[x].min() < x_range_min:\n",
    "            x_range_min = df[x].min()\n",
    "    \n",
    "    for i, (df, label) in enumerate(zip(dfs, labels)):\n",
    "        lr = LinearRegression().fit(X=df[[x]], y=df[y])\n",
    "\n",
    "        gradient = lr.coef_[0]\n",
    "        intercept = lr.intercept_\n",
    "\n",
    "        # Generate x values\n",
    "        x_ = np.linspace(x_range_min, x_range_max, 100)\n",
    "        # Calculate y values based on the line equation y = mx + b\n",
    "        y_ = gradient * x_ + intercept\n",
    "\n",
    "        plt.plot(x_, y_, linestyle=\"--\", color=colors[i%len(colors)])\n",
    "\n",
    "\n",
    "    plt.legend()\n",
    "\n",
    "    plt.xlabel(xlabel)\n",
    "    plt.ylabel(ylabel)\n",
    "    plt.show()"
   ]
  },
  {
   "cell_type": "markdown",
   "metadata": {},
   "source": [
    "# GPT"
   ]
  },
  {
   "cell_type": "code",
   "execution_count": 7,
   "metadata": {},
   "outputs": [],
   "source": [
    "directory = \"./GPT\"\n",
    "listdir = os.listdir(directory)\n",
    "\n",
    "gpt = []\n",
    "\n",
    "for fname in listdir:\n",
    "    seq_len = int(fname.replace(\".json\",''))\n",
    "    path = os.path.join(directory, fname)\n",
    "    data = json.load(open(path, 'r'))\n",
    "\n",
    "    params = data[\"params\"]\n",
    "    depth = data[\"n_block\"]\n",
    "    width = params // depth\n",
    "\n",
    "    train_loss = [el[\"train_loss\"] for el in data[\"history\"]]\n",
    "    val_loss = [el[\"val_loss\"] for el in data[\"history\"]]\n",
    "\n",
    "    max_train_loss = max(train_loss)\n",
    "    min_train_loss = min(train_loss)\n",
    "    mean_train_loss = sum(train_loss)/len(train_loss)\n",
    "\n",
    "    train_loss_decrement = [data[\"history\"][i][\"train_loss\"] - data[\"history\"][i+1][\"train_loss\"] for i in range(len(data[\"history\"])-1)]\n",
    "    mean_train_loss_decrement = (sum(train_loss_decrement) / len(train_loss_decrement)) / max_train_loss # normalization\n",
    "\n",
    "    val_loss_decrement = [data[\"history\"][i][\"val_loss\"] - data[\"history\"][i+1][\"val_loss\"] for i in range(len(data[\"history\"])-1)]\n",
    "    mean_val_loss_decrement = (sum(val_loss_decrement) / len(val_loss_decrement)) / max(val_loss) # normalization\n",
    "\n",
    "    overfit_ratio = abs(mean_train_loss_decrement / mean_val_loss_decrement)\n",
    "\n",
    "    train_time = [el[\"train_time\"] for el in data[\"history\"]]\n",
    "    val_time = [el[\"val_time\"] for el in data[\"history\"]]\n",
    "\n",
    "    mean_train_time = sum(train_time) / len(train_time)\n",
    "    mean_val_time = sum(val_time) / len(val_time)\n",
    "\n",
    "    gpt.append({\n",
    "        \"params\" : params,\n",
    "        \"depth\" : depth,\n",
    "        \"width\" : width,\n",
    "        \"max_train_loss\" : max_train_loss,\n",
    "        \"min_train_loss\" : min_train_loss,\n",
    "        \"mean_train_loss\" : mean_train_loss,\n",
    "        # \"mean_train_loss_decrement\" : mean_train_loss_decrement,\n",
    "        # \"mean_val_loss_decrement\" : mean_val_loss_decrement,\n",
    "        \"overfit_ratio\" : overfit_ratio,\n",
    "        \"mean_train_time\" : mean_train_time,\n",
    "        \"mean_val_time\" : mean_val_time,\n",
    "        \"seq_len\" : seq_len\n",
    "    })"
   ]
  },
  {
   "cell_type": "code",
   "execution_count": 8,
   "metadata": {},
   "outputs": [],
   "source": [
    "gpt = pd.DataFrame(gpt)"
   ]
  },
  {
   "cell_type": "markdown",
   "metadata": {},
   "source": [
    "# Seq Len vs Train Time"
   ]
  },
  {
   "cell_type": "code",
   "execution_count": 9,
   "metadata": {},
   "outputs": [
    {
     "data": {
      "image/png": "[encoded data removed]",
      "text/plain": [
       "<Figure size 640x480 with 1 Axes>"
      ]
     },
     "metadata": {},
     "output_type": "display_data"
    }
   ],
   "source": [
    "scatter(\n",
    "    dfs=[lstm, gpt],\n",
    "    x=\"seq_len\",\n",
    "    y=\"mean_train_time\",\n",
    "    labels=[\"LSTM\", \"GPT\"],\n",
    "    xlabel=\"Sequence Length\",\n",
    "    ylabel=\"Train Time per epoch (s)\",\n",
    ")"
   ]
  }
 ],
 "metadata": {
  "kernelspec": {
   "display_name": "base",
   "language": "python",
   "name": "python3"
  },
  "language_info": {
   "codemirror_mode": {
    "name": "ipython",
    "version": 3
   },
   "file_extension": ".py",
   "mimetype": "text/x-python",
   "name": "python",
   "nbconvert_exporter": "python",
   "pygments_lexer": "ipython3",
   "version": "3.9.17"
  }
 },
 "nbformat": 4,
 "nbformat_minor": 2
}
